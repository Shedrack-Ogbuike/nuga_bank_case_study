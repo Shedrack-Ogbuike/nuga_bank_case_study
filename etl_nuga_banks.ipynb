{
 "cells": [
  {
   "cell_type": "markdown",
   "id": "f4c72b04",
   "metadata": {},
   "source": [
    "Import dependencies\n"
   ]
  },
  {
   "cell_type": "code",
   "execution_count": 4,
   "id": "bd344092",
   "metadata": {},
   "outputs": [
    {
     "name": "stdout",
     "output_type": "stream",
     "text": [
      "Requirement already satisfied: psycopg2-binary in c:\\users\\user\\anaconda3\\envs\\enel-ml\\lib\\site-packages (2.9.10)\n"
     ]
    }
   ],
   "source": [
    "from pyspark.sql import SparkSession\n",
    "from pyspark.sql.functions import col, to_date, when, lit\n",
    "from pyspark.sql.types import StructType, StructField, StringType, DateType, DoubleType\n",
    "from pyspark.sql.functions import monotonically_increasing_id\n",
    "!pip install psycopg2-binary\n",
    "from sqlalchemy import create_engine"
   ]
  },
  {
   "cell_type": "code",
   "execution_count": 5,
   "id": "35fdc80a",
   "metadata": {},
   "outputs": [],
   "source": [
    "# initialize Spark session\n",
    "spark = SparkSession.builder.appName(\"NugaBanksETL\").getOrCreate()"
   ]
  },
  {
   "cell_type": "code",
   "execution_count": 6,
   "id": "83774e59",
   "metadata": {},
   "outputs": [
    {
     "data": {
      "text/html": [
       "\n",
       "            <div>\n",
       "                <p><b>SparkSession - in-memory</b></p>\n",
       "                \n",
       "        <div>\n",
       "            <p><b>SparkContext</b></p>\n",
       "\n",
       "            <p><a href=\"http://10.0.0.66:4040\">Spark UI</a></p>\n",
       "\n",
       "            <dl>\n",
       "              <dt>Version</dt>\n",
       "                <dd><code>v4.0.0</code></dd>\n",
       "              <dt>Master</dt>\n",
       "                <dd><code>local[*]</code></dd>\n",
       "              <dt>AppName</dt>\n",
       "                <dd><code>NugaBanksETL</code></dd>\n",
       "            </dl>\n",
       "        </div>\n",
       "        \n",
       "            </div>\n",
       "        "
      ],
      "text/plain": [
       "<pyspark.sql.session.SparkSession at 0x1b6e3825fa0>"
      ]
     },
     "execution_count": 6,
     "metadata": {},
     "output_type": "execute_result"
    }
   ],
   "source": [
    "spark"
   ]
  },
  {
   "cell_type": "markdown",
   "id": "63876816",
   "metadata": {},
   "source": [
    "Data Extraction"
   ]
  },
  {
   "cell_type": "code",
   "execution_count": 7,
   "id": "07921b78",
   "metadata": {},
   "outputs": [],
   "source": [
    "nuga_banks_df = spark.read.csv(r'C:\\Users\\user\\Desktop\\nuga_bank_case_study\\dataset\\nuga_bank_transactions.csv', header=True, inferSchema=True)"
   ]
  },
  {
   "cell_type": "code",
   "execution_count": 8,
   "id": "a943b40e",
   "metadata": {},
   "outputs": [
    {
     "name": "stdout",
     "output_type": "stream",
     "text": [
      "+--------------------+------+----------------+--------------+--------------------+------------------+--------------+--------------------+--------------------+--------------------+--------------------+-------------------+------------------+--------------------+-------------+-------------+--------+-----+---------+--------------------+--------------------+------+--------------+\n",
      "|    Transaction_Date|Amount|Transaction_Type| Customer_Name|    Customer_Address|     Customer_City|Customer_State|    Customer_Country|             Company|           Job_Title|               Email|       Phone_Number|Credit_Card_Number|                IBAN|Currency_Code|Random_Number|Category|Group|Is_Active|        Last_Updated|         Description|Gender|Marital_Status|\n",
      "+--------------------+------+----------------+--------------+--------------------+------------------+--------------+--------------------+--------------------+--------------------+--------------------+-------------------+------------------+--------------------+-------------+-------------+--------+-----+---------+--------------------+--------------------+------+--------------+\n",
      "|2024-03-23 15:38:...| 34.76|      Withdrawal|    James Neal|54912 Holmes Lodg...| West Keithborough|       Florida|                Togo|Benson, Johnson a...|                NULL|                NULL|  493.720.6609x7545|  3592901394693441|GB98RBPP090285271...|          MAD|       3167.0|       C|    Z|       No|2020-06-20 03:04:...|Yeah food anythin...| Other|      Divorced|\n",
      "|2024-04-22 19:15:...|163.92|      Withdrawal|   Thomas Long| 1133 Collin Passage|        Joshuabury|   Connecticut|Lao People's Demo...|                NULL|   Food technologist|michellelynch@exa...|      (497)554-3317|              NULL|GB03KFZR339662263...|          VEF|       2122.0|       B|    Z|     NULL|2020-12-27 13:23:...|Teach edge make n...|Female|       Married|\n",
      "|2024-04-12 19:46:...|386.32|      Withdrawal|Ashley Shelton|5297 Johnson Port...|       North Maria|    New Jersey|              Bhutan|       Jones-Mueller|Database administ...| ljordan@example.org|      (534)769-3072|      675983949974|GB59QYRN446730519...|          COP|       7796.0|       C|    Z|       No|2020-01-24 01:23:...|Again line face c...| Other|          NULL|\n",
      "|2024-04-17 15:29:...|407.15|         Deposit| James Rosario|56955 Moore Glens...|North Michellefurt|    New Mexico|             Iceland|       Vargas-Harris|Horticultural the...|parkerjames@examp...|+1-447-900-1320x257|     4761202519057|GB74FTDO268299438...|          BWP|       6284.0|       C|    Z|      Yes|2023-09-27 03:01:...|     Bag my a drive.|  NULL|          NULL|\n",
      "|2024-02-10 01:51:...|161.31|         Deposit|Miguel Leonard|262 Beck Expressw...|              NULL| West Virginia|             Eritrea|Richardson, Gonza...|   Minerals surveyor| zweaver@example.net|               NULL|   213156729655186|GB94EWRN587847592...|          SOS|       9179.0|       C|    Y|       No|2022-01-22 19:08:...|Husband find ok w...|Female|       Married|\n",
      "+--------------------+------+----------------+--------------+--------------------+------------------+--------------+--------------------+--------------------+--------------------+--------------------+-------------------+------------------+--------------------+-------------+-------------+--------+-----+---------+--------------------+--------------------+------+--------------+\n",
      "only showing top 5 rows\n"
     ]
    }
   ],
   "source": [
    "nuga_banks_df.show(5)"
   ]
  },
  {
   "cell_type": "code",
   "execution_count": 9,
   "id": "e84809f4",
   "metadata": {},
   "outputs": [
    {
     "name": "stdout",
     "output_type": "stream",
     "text": [
      "root\n",
      " |-- Transaction_Date: timestamp (nullable = true)\n",
      " |-- Amount: double (nullable = true)\n",
      " |-- Transaction_Type: string (nullable = true)\n",
      " |-- Customer_Name: string (nullable = true)\n",
      " |-- Customer_Address: string (nullable = true)\n",
      " |-- Customer_City: string (nullable = true)\n",
      " |-- Customer_State: string (nullable = true)\n",
      " |-- Customer_Country: string (nullable = true)\n",
      " |-- Company: string (nullable = true)\n",
      " |-- Job_Title: string (nullable = true)\n",
      " |-- Email: string (nullable = true)\n",
      " |-- Phone_Number: string (nullable = true)\n",
      " |-- Credit_Card_Number: long (nullable = true)\n",
      " |-- IBAN: string (nullable = true)\n",
      " |-- Currency_Code: string (nullable = true)\n",
      " |-- Random_Number: double (nullable = true)\n",
      " |-- Category: string (nullable = true)\n",
      " |-- Group: string (nullable = true)\n",
      " |-- Is_Active: string (nullable = true)\n",
      " |-- Last_Updated: timestamp (nullable = true)\n",
      " |-- Description: string (nullable = true)\n",
      " |-- Gender: string (nullable = true)\n",
      " |-- Marital_Status: string (nullable = true)\n",
      "\n"
     ]
    }
   ],
   "source": [
    "nuga_banks_df.printSchema()"
   ]
  },
  {
   "cell_type": "code",
   "execution_count": 10,
   "id": "10acfffa",
   "metadata": {},
   "outputs": [
    {
     "data": {
      "text/plain": [
       "['Transaction_Date',\n",
       " 'Amount',\n",
       " 'Transaction_Type',\n",
       " 'Customer_Name',\n",
       " 'Customer_Address',\n",
       " 'Customer_City',\n",
       " 'Customer_State',\n",
       " 'Customer_Country',\n",
       " 'Company',\n",
       " 'Job_Title',\n",
       " 'Email',\n",
       " 'Phone_Number',\n",
       " 'Credit_Card_Number',\n",
       " 'IBAN',\n",
       " 'Currency_Code',\n",
       " 'Random_Number',\n",
       " 'Category',\n",
       " 'Group',\n",
       " 'Is_Active',\n",
       " 'Last_Updated',\n",
       " 'Description',\n",
       " 'Gender',\n",
       " 'Marital_Status']"
      ]
     },
     "execution_count": 10,
     "metadata": {},
     "output_type": "execute_result"
    }
   ],
   "source": [
    "# Data transformation\n",
    "\n",
    "nuga_banks_df.columns\n"
   ]
  },
  {
   "cell_type": "code",
   "execution_count": 11,
   "id": "900940b1",
   "metadata": {},
   "outputs": [
    {
     "data": {
      "text/plain": [
       "(1000000, 23)"
      ]
     },
     "execution_count": 11,
     "metadata": {},
     "output_type": "execute_result"
    }
   ],
   "source": [
    "# no of rows and columns\n",
    "num_rows = nuga_banks_df.count()\n",
    "num_cols = len(nuga_banks_df.columns)\n",
    "\n",
    "num_rows, num_cols"
   ]
  },
  {
   "cell_type": "code",
   "execution_count": 12,
   "id": "223d6956",
   "metadata": {},
   "outputs": [
    {
     "name": "stdout",
     "output_type": "stream",
     "text": [
      "Transaction_Date Nulls 0\n",
      "Amount Nulls 0\n",
      "Transaction_Type Nulls 0\n",
      "Customer_Name Nulls 100425\n",
      "Customer_Address Nulls 100087\n",
      "Customer_City Nulls 100034\n",
      "Customer_State Nulls 100009\n",
      "Customer_Country Nulls 100672\n",
      "Company Nulls 100295\n",
      "Job_Title Nulls 99924\n",
      "Email Nulls 100043\n",
      "Phone_Number Nulls 100524\n",
      "Credit_Card_Number Nulls 100085\n",
      "IBAN Nulls 100300\n",
      "Currency_Code Nulls 99342\n",
      "Random_Number Nulls 99913\n",
      "Category Nulls 100332\n",
      "Group Nulls 100209\n",
      "Is_Active Nulls 100259\n",
      "Last_Updated Nulls 100321\n",
      "Description Nulls 100403\n",
      "Gender Nulls 99767\n",
      "Marital_Status Nulls 99904\n"
     ]
    }
   ],
   "source": [
    "# checking for null values\n",
    "for col in nuga_banks_df.columns:\n",
    "    print(col, 'Nulls', nuga_banks_df.filter(nuga_banks_df[col].isNull()).count())"
   ]
  },
  {
   "cell_type": "code",
   "execution_count": 13,
   "id": "2d134900",
   "metadata": {},
   "outputs": [],
   "source": [
    "# fill up null values\n",
    "nuga_banks_df_cleaned = nuga_banks_df.fillna({\n",
    "    'Customer_Name': 'unknown',\n",
    "    'Customer_Address': 'unknown',\n",
    "    'Customer_State': 'unknown',\n",
    "    'Customer_City': 'unknown',\n",
    "    'Customer_Country': 'unknown',\n",
    "    'Company': 'unknown',\n",
    "    'Job_Title': 'unknown',\n",
    "    'Email': 'unknown',\n",
    "    'Phone_Number': 'unknown',\n",
    "    'Credit_Card_Number': 0,\n",
    "    'IBAN': 'unknown',\n",
    "    'Currency_Code': 'unknown',\n",
    "    'Random_Number': 0.0,\n",
    "    'Category': 'unknown',\n",
    "    'Group': 'unknown',\n",
    "    'Is_Active': 'unknown',\n",
    "    'Description': 'unknown',\n",
    "    'Gender': 'unknown',\n",
    "    'Marital_Status': 'unknown'\n",
    "    \n",
    "})"
   ]
  },
  {
   "cell_type": "code",
   "execution_count": 14,
   "id": "f471acaf",
   "metadata": {},
   "outputs": [
    {
     "name": "stdout",
     "output_type": "stream",
     "text": [
      "Transaction_Date Nulls 0\n",
      "Amount Nulls 0\n",
      "Transaction_Type Nulls 0\n",
      "Customer_Name Nulls 0\n",
      "Customer_Address Nulls 0\n",
      "Customer_City Nulls 0\n",
      "Customer_State Nulls 0\n",
      "Customer_Country Nulls 0\n",
      "Company Nulls 0\n",
      "Job_Title Nulls 0\n",
      "Email Nulls 0\n",
      "Phone_Number Nulls 0\n",
      "Credit_Card_Number Nulls 0\n",
      "IBAN Nulls 0\n",
      "Currency_Code Nulls 0\n",
      "Random_Number Nulls 0\n",
      "Category Nulls 0\n",
      "Group Nulls 0\n",
      "Is_Active Nulls 0\n",
      "Last_Updated Nulls 100321\n",
      "Description Nulls 0\n",
      "Gender Nulls 0\n",
      "Marital_Status Nulls 0\n"
     ]
    }
   ],
   "source": [
    "# checking for null values\n",
    "for col in nuga_banks_df_cleaned.columns:\n",
    "    print(col, 'Nulls', nuga_banks_df_cleaned.filter(nuga_banks_df_cleaned[col].isNull()).count())"
   ]
  },
  {
   "cell_type": "code",
   "execution_count": 15,
   "id": "ec141882",
   "metadata": {},
   "outputs": [],
   "source": [
    "# drop null values left\n",
    "nuga_banks_df_cleaned = nuga_banks_df_cleaned.dropna(subset=['Last_Updated'])"
   ]
  },
  {
   "cell_type": "code",
   "execution_count": 16,
   "id": "08e3665f",
   "metadata": {},
   "outputs": [
    {
     "name": "stdout",
     "output_type": "stream",
     "text": [
      "Transaction_Date Nulls 0\n",
      "Amount Nulls 0\n",
      "Transaction_Type Nulls 0\n",
      "Customer_Name Nulls 0\n",
      "Customer_Address Nulls 0\n",
      "Customer_City Nulls 0\n",
      "Customer_State Nulls 0\n",
      "Customer_Country Nulls 0\n",
      "Company Nulls 0\n",
      "Job_Title Nulls 0\n",
      "Email Nulls 0\n",
      "Phone_Number Nulls 0\n",
      "Credit_Card_Number Nulls 0\n",
      "IBAN Nulls 0\n",
      "Currency_Code Nulls 0\n",
      "Random_Number Nulls 0\n",
      "Category Nulls 0\n",
      "Group Nulls 0\n",
      "Is_Active Nulls 0\n",
      "Last_Updated Nulls 0\n",
      "Description Nulls 0\n",
      "Gender Nulls 0\n",
      "Marital_Status Nulls 0\n"
     ]
    }
   ],
   "source": [
    "# checking for null values\n",
    "for col in nuga_banks_df_cleaned.columns:\n",
    "    print(col, 'Nulls', nuga_banks_df_cleaned.filter(nuga_banks_df_cleaned[col].isNull()).count())"
   ]
  },
  {
   "cell_type": "code",
   "execution_count": 17,
   "id": "b52670fd",
   "metadata": {},
   "outputs": [
    {
     "data": {
      "text/plain": [
       "(899679, 23)"
      ]
     },
     "execution_count": 17,
     "metadata": {},
     "output_type": "execute_result"
    }
   ],
   "source": [
    "# no of rows and columns\n",
    "num_rows = nuga_banks_df_cleaned.count()\n",
    "num_cols = len(nuga_banks_df_cleaned.columns)\n",
    "\n",
    "num_rows, num_cols"
   ]
  },
  {
   "cell_type": "code",
   "execution_count": 18,
   "id": "f7ff78aa",
   "metadata": {},
   "outputs": [
    {
     "name": "stdout",
     "output_type": "stream",
     "text": [
      "+-------+------------------+----------------+-------------+--------------------+-------------+--------------+----------------+------------+------------------+-------------------+--------------------+--------------------+--------------------+-------------+------------------+--------+-------+---------+--------------------+-------+--------------+\n",
      "|summary|            Amount|Transaction_Type|Customer_Name|    Customer_Address|Customer_City|Customer_State|Customer_Country|     Company|         Job_Title|              Email|        Phone_Number|  Credit_Card_Number|                IBAN|Currency_Code|     Random_Number|Category|  Group|Is_Active|         Description| Gender|Marital_Status|\n",
      "+-------+------------------+----------------+-------------+--------------------+-------------+--------------+----------------+------------+------------------+-------------------+--------------------+--------------------+--------------------+-------------+------------------+--------+-------+---------+--------------------+-------+--------------+\n",
      "|  count|            899679|          899679|       899679|              899679|       899679|        899679|          899679|      899679|            899679|             899679|              899679|              899679|              899679|       899679|            899679|  899679| 899679|   899679|              899679| 899679|        899679|\n",
      "|   mean|505.10367708927123|            NULL|         NULL|                NULL|         NULL|          NULL|            NULL|        NULL|              NULL|               NULL| 6.002851385999521E9|3.409662226750519...|                NULL|         NULL| 4952.920380491264|    NULL|   NULL|     NULL|                NULL|   NULL|          NULL|\n",
      "| stddev|285.79453433004704|            NULL|         NULL|                NULL|         NULL|          NULL|            NULL|        NULL|              NULL|               NULL|2.3068371038619432E9|1.189655005733003...|                NULL|         NULL|2966.5434011516036|    NULL|   NULL|     NULL|                NULL|   NULL|          NULL|\n",
      "|    min|              10.0|         Deposit| Aaron Abbott|000 Aaron Landing...|    Aaronberg|       Alabama|     Afghanistan|Abbott Group|Academic librarian|aabbott@example.com|       (200)201-4254|                   0|GB02AAAU191993009...|          AED|               0.0|       A|      X|       No|A American and to...| Female|      Divorced|\n",
      "|    max|            1000.0|      Withdrawal|      unknown|             unknown|      unknown|       unknown|         unknown|     unknown|           unknown|zzuniga@example.org|             unknown| 4999984361512569455|             unknown|      unknown|            9999.0| unknown|unknown|  unknown|             unknown|unknown|       unknown|\n",
      "+-------+------------------+----------------+-------------+--------------------+-------------+--------------+----------------+------------+------------------+-------------------+--------------------+--------------------+--------------------+-------------+------------------+--------+-------+---------+--------------------+-------+--------------+\n",
      "\n"
     ]
    }
   ],
   "source": [
    "# To view the summary statistics of the DataFrame\n",
    "nuga_banks_df_cleaned.describe().show()"
   ]
  },
  {
   "cell_type": "code",
   "execution_count": 19,
   "id": "75d950b7",
   "metadata": {},
   "outputs": [
    {
     "data": {
      "text/plain": [
       "['Transaction_Date',\n",
       " 'Amount',\n",
       " 'Transaction_Type',\n",
       " 'Customer_Name',\n",
       " 'Customer_Address',\n",
       " 'Customer_City',\n",
       " 'Customer_State',\n",
       " 'Customer_Country',\n",
       " 'Company',\n",
       " 'Job_Title',\n",
       " 'Email',\n",
       " 'Phone_Number',\n",
       " 'Credit_Card_Number',\n",
       " 'IBAN',\n",
       " 'Currency_Code',\n",
       " 'Random_Number',\n",
       " 'Category',\n",
       " 'Group',\n",
       " 'Is_Active',\n",
       " 'Last_Updated',\n",
       " 'Description',\n",
       " 'Gender',\n",
       " 'Marital_Status']"
      ]
     },
     "execution_count": 19,
     "metadata": {},
     "output_type": "execute_result"
    }
   ],
   "source": [
    "nuga_banks_df_cleaned.columns"
   ]
  },
  {
   "cell_type": "code",
   "execution_count": 20,
   "id": "582f8e97",
   "metadata": {},
   "outputs": [
    {
     "name": "stdout",
     "output_type": "stream",
     "text": [
      "+--------------------+----------------+------+\n",
      "|    Transaction_Date|Transaction_Type|Amount|\n",
      "+--------------------+----------------+------+\n",
      "|2024-03-23 15:38:...|      Withdrawal| 34.76|\n",
      "|2024-04-22 19:15:...|      Withdrawal|163.92|\n",
      "|2024-04-12 19:46:...|      Withdrawal|386.32|\n",
      "|2024-04-17 15:29:...|         Deposit|407.15|\n",
      "|2024-02-10 01:51:...|         Deposit|161.31|\n",
      "|2024-02-10 22:56:...|        Transfer|764.34|\n",
      "|2024-04-07 00:07:...|         Deposit|734.59|\n",
      "|2024-03-08 01:51:...|         Deposit|592.43|\n",
      "|2024-02-01 12:34:...|         Deposit| 927.1|\n",
      "|2024-03-22 16:46:...|        Transfer| 66.59|\n",
      "|2024-04-23 13:30:...|      Withdrawal| 246.3|\n",
      "|2024-01-13 01:22:...|      Withdrawal|782.32|\n",
      "|2024-02-25 15:16:...|      Withdrawal|818.42|\n",
      "|2024-01-01 20:55:...|      Withdrawal|352.23|\n",
      "|2024-01-19 00:01:...|      Withdrawal|316.19|\n",
      "|2024-04-09 14:40:...|      Withdrawal|662.26|\n",
      "|2024-04-15 04:58:...|         Deposit|893.73|\n",
      "|2024-04-12 14:32:...|      Withdrawal|746.22|\n",
      "|2024-02-26 14:43:...|      Withdrawal|214.77|\n",
      "|2024-01-17 14:50:...|      Withdrawal|726.94|\n",
      "+--------------------+----------------+------+\n",
      "only showing top 20 rows\n"
     ]
    }
   ],
   "source": [
    "# Transaction table\n",
    "transaction = nuga_banks_df_cleaned.select('Transaction_Date', 'Transaction_Type', 'Amount')\n",
    "transaction.show()"
   ]
  },
  {
   "cell_type": "code",
   "execution_count": 21,
   "id": "115a275d",
   "metadata": {},
   "outputs": [],
   "source": [
    "# Adding the 'Transaction_ID' column\n",
    "transaction = transaction.withColumn(\"Transaction_id\", monotonically_increasing_id())"
   ]
  },
  {
   "cell_type": "code",
   "execution_count": 22,
   "id": "21a789da",
   "metadata": {},
   "outputs": [
    {
     "name": "stdout",
     "output_type": "stream",
     "text": [
      "+--------------------+----------------+------+--------------+\n",
      "|    Transaction_Date|Transaction_Type|Amount|Transaction_id|\n",
      "+--------------------+----------------+------+--------------+\n",
      "|2024-03-23 15:38:...|      Withdrawal| 34.76|             0|\n",
      "|2024-04-22 19:15:...|      Withdrawal|163.92|             1|\n",
      "|2024-04-12 19:46:...|      Withdrawal|386.32|             2|\n",
      "|2024-04-17 15:29:...|         Deposit|407.15|             3|\n",
      "|2024-02-10 01:51:...|         Deposit|161.31|             4|\n",
      "|2024-02-10 22:56:...|        Transfer|764.34|             5|\n",
      "|2024-04-07 00:07:...|         Deposit|734.59|             6|\n",
      "|2024-03-08 01:51:...|         Deposit|592.43|             7|\n",
      "|2024-02-01 12:34:...|         Deposit| 927.1|             8|\n",
      "|2024-03-22 16:46:...|        Transfer| 66.59|             9|\n",
      "|2024-04-23 13:30:...|      Withdrawal| 246.3|            10|\n",
      "|2024-01-13 01:22:...|      Withdrawal|782.32|            11|\n",
      "|2024-02-25 15:16:...|      Withdrawal|818.42|            12|\n",
      "|2024-01-01 20:55:...|      Withdrawal|352.23|            13|\n",
      "|2024-01-19 00:01:...|      Withdrawal|316.19|            14|\n",
      "|2024-04-09 14:40:...|      Withdrawal|662.26|            15|\n",
      "|2024-04-15 04:58:...|         Deposit|893.73|            16|\n",
      "|2024-04-12 14:32:...|      Withdrawal|746.22|            17|\n",
      "|2024-02-26 14:43:...|      Withdrawal|214.77|            18|\n",
      "|2024-01-17 14:50:...|      Withdrawal|726.94|            19|\n",
      "+--------------------+----------------+------+--------------+\n",
      "only showing top 20 rows\n"
     ]
    }
   ],
   "source": [
    "transaction.show()"
   ]
  },
  {
   "cell_type": "code",
   "execution_count": 23,
   "id": "4cb1a9d5",
   "metadata": {},
   "outputs": [
    {
     "name": "stdout",
     "output_type": "stream",
     "text": [
      "+--------------+--------------------+------+----------------+\n",
      "|Transaction_id|    Transaction_Date|Amount|Transaction_Type|\n",
      "+--------------+--------------------+------+----------------+\n",
      "|             0|2024-03-23 15:38:...| 34.76|      Withdrawal|\n",
      "|             1|2024-04-22 19:15:...|163.92|      Withdrawal|\n",
      "|             2|2024-04-12 19:46:...|386.32|      Withdrawal|\n",
      "|             3|2024-04-17 15:29:...|407.15|         Deposit|\n",
      "|             4|2024-02-10 01:51:...|161.31|         Deposit|\n",
      "|             5|2024-02-10 22:56:...|764.34|        Transfer|\n",
      "|             6|2024-04-07 00:07:...|734.59|         Deposit|\n",
      "|             7|2024-03-08 01:51:...|592.43|         Deposit|\n",
      "|             8|2024-02-01 12:34:...| 927.1|         Deposit|\n",
      "|             9|2024-03-22 16:46:...| 66.59|        Transfer|\n",
      "|            10|2024-04-23 13:30:...| 246.3|      Withdrawal|\n",
      "|            11|2024-01-13 01:22:...|782.32|      Withdrawal|\n",
      "|            12|2024-02-25 15:16:...|818.42|      Withdrawal|\n",
      "|            13|2024-01-01 20:55:...|352.23|      Withdrawal|\n",
      "|            14|2024-01-19 00:01:...|316.19|      Withdrawal|\n",
      "|            15|2024-04-09 14:40:...|662.26|      Withdrawal|\n",
      "|            16|2024-04-15 04:58:...|893.73|         Deposit|\n",
      "|            17|2024-04-12 14:32:...|746.22|      Withdrawal|\n",
      "|            18|2024-02-26 14:43:...|214.77|      Withdrawal|\n",
      "|            19|2024-01-17 14:50:...|726.94|      Withdrawal|\n",
      "+--------------+--------------------+------+----------------+\n",
      "only showing top 20 rows\n"
     ]
    }
   ],
   "source": [
    "# Reordering the columns\n",
    "transaction = transaction.select(\"Transaction_id\", \"Transaction_Date\", \"Amount\", \"Transaction_Type\")\n",
    "transaction.show()"
   ]
  },
  {
   "cell_type": "code",
   "execution_count": 24,
   "id": "7d24a4ce",
   "metadata": {},
   "outputs": [
    {
     "name": "stdout",
     "output_type": "stream",
     "text": [
      "+-----------+------------------+--------------------+--------------+--------------------+--------------------+--------------------+--------------------+\n",
      "|Customer_id|     Customer_Name|    Customer_Address|Customer_State|       Customer_City|    Customer_Country|               Email|        Phone_Number|\n",
      "+-----------+------------------+--------------------+--------------+--------------------+--------------------+--------------------+--------------------+\n",
      "|          0|    Allen Castillo|   5750 Vanessa Neck|North Carolina|     New Vickiemouth|              Zambia|             unknown|  732.974.7438x89666|\n",
      "|          1|        Tina Jones|28150 Kelsey Stat...|          Iowa|             unknown|               Qatar|gabriellemoore@ex...|    736.645.3977x275|\n",
      "|          2|    Michael Murphy|894 Williams Ridg...|      New York|       Dominguezview|              Sweden|kristinstanley@ex...|+1-693-739-2204x8851|\n",
      "|          3|       Brian Glenn|505 Mcdowell Gard...|  South Dakota|South Christinech...|             Lesotho|bcabrera@example.net|001-962-928-1897x...|\n",
      "|          4|      Jennifer Liu|07805 Taylor Lock...|       Wyoming|          South Lisa|             unknown|fergusonjustin@ex...|   688.888.9882x6972|\n",
      "|          5|           unknown|638 Collins Field...|      Arkansas|             unknown|             Armenia|pauladams@example...| +1-370-790-4769x506|\n",
      "|          6|  Mr. John Burnett|400 Hudson Wells ...|      New York|             unknown|             unknown|kmitchell@example...|       (946)282-5147|\n",
      "|          7|       Gary Archer| 0930 Michael Stream|North Carolina|            Boydport|Palestinian Terri...|kennethscott@exam...|       (713)965-2955|\n",
      "|          8|         Erin Hood|             unknown|  South Dakota|         Johnsonland|             unknown|  yjones@example.org|        215-735-9369|\n",
      "|          9|        Tommy Wood|             unknown|        Kansas|      Cameronborough|              Uganda|  rwells@example.com|          6289005739|\n",
      "|         10|           unknown|    75803 Scott Mill|        Oregon|        Theresashire|  Dominican Republic|davidgarcia@examp...|    001-545-820-1419|\n",
      "|         11|Mr. Gary Brooks II|   786 Mccarthy Fall|         Idaho|         Traceymouth|            Kiribati|ellislouis@exampl...|          8963308214|\n",
      "|         12|    Julie Crawford|4531 Douglas Stre...|       Arizona|      Port Dianeside|Lao People's Demo...|             unknown|        473-295-8658|\n",
      "|         13|    Zachary Grimes|42686 Jessica Loc...|      Virginia|           Johnshire|             Tunisia|vanessa93@example...|       (464)800-5827|\n",
      "|         14|          Lee Lane|             unknown| New Hampshire|North Elizabethmouth|                Peru|danielsjoshua@exa...|001-849-803-1447x...|\n",
      "|         15| Jessica Zimmerman|    15565 Reed Wells|       Florida|       East Johnland|                Chad|awilliams@example...|  664.840.4619x25293|\n",
      "|         16|   Denise Johnston|98089 Kristen Roa...|    New Jersey|           South Amy|     Kyrgyz Republic|             unknown|    799-297-6013x169|\n",
      "|         17|     Heidi Vazquez|5346 Gordon Shore...|     Wisconsin|          Briggsberg|             unknown| pobrien@example.org|          3294797221|\n",
      "|         18|  Lindsey Thompson|7442 Sabrina Dam ...|     Wisconsin|            Ryantown|    Marshall Islands|             unknown|             unknown|\n",
      "|         19|     Tammy Simmons|997 Flores Locks ...|      Nebraska|            Woodston|                Oman| udecker@example.com|+1-853-249-6586x8571|\n",
      "+-----------+------------------+--------------------+--------------+--------------------+--------------------+--------------------+--------------------+\n",
      "only showing top 20 rows\n"
     ]
    }
   ],
   "source": [
    "# Customer table\n",
    "customer = nuga_banks_df_cleaned.select('Customer_Name', 'Customer_Address', 'Customer_State', 'Customer_City', 'Customer_Country', 'Email', 'Phone_Number').distinct()\n",
    "customer = customer.withColumn(\"Customer_id\", monotonically_increasing_id())\n",
    "customer = customer.select(\"Customer_id\", \"Customer_Name\", \"Customer_Address\", \"Customer_State\", \"Customer_City\", \"Customer_Country\", \"Email\", \"Phone_Number\")\n",
    "customer.show()"
   ]
  },
  {
   "cell_type": "code",
   "execution_count": 25,
   "id": "afed224f",
   "metadata": {},
   "outputs": [
    {
     "name": "stdout",
     "output_type": "stream",
     "text": [
      "+-----------+--------------------+--------------------+-------+--------------+\n",
      "|Employee_id|             Company|           Job_Title| Gender|Marital_Status|\n",
      "+-----------+--------------------+--------------------+-------+--------------+\n",
      "|          0|Hill, Sharp and F...|             unknown| Female|      Divorced|\n",
      "|          1|Schmidt, Morgan a...|     Engineer, water| Female|        Single|\n",
      "|          2|Medina, Flores an...|             Curator| Female|       unknown|\n",
      "|          3|         Bell-Murphy|Geographical info...|   Male|       unknown|\n",
      "|          4|      Henry and Sons|Engineer, civil (...| Female|       Married|\n",
      "|          5|             unknown|   Company secretary|unknown|      Divorced|\n",
      "|          6|             unknown|Clinical embryolo...|   Male|        Single|\n",
      "|          7|Carrillo, Schwart...| Solicitor, Scotland| Female|        Single|\n",
      "|          8|         Olson-Lucas| Magazine journalist|   Male|      Divorced|\n",
      "|          9|      Suarez-Terrell|            Best boy| Female|      Divorced|\n",
      "|         10|         Stewart LLC|       Archaeologist|   Male|        Single|\n",
      "|         11|        Lane-Maxwell|             unknown| Female|        Single|\n",
      "|         12|       Collins-Clark|Producer, televis...| Female|      Divorced|\n",
      "|         13|      Mcpherson-Gray|Biomedical scientist|   Male|      Divorced|\n",
      "|         14|     Torres-Caldwell|Housing manager/o...| Female|       Married|\n",
      "|         15|     Cobb-Valenzuela|  Arts administrator|  Other|       Married|\n",
      "|         16|    Mullins and Sons|Television floor ...|  Other|       unknown|\n",
      "|         17|Jenkins, Mcclure ...|Arts development ...| Female|      Divorced|\n",
      "|         18|Gonzalez, Wilson ...|Scientist, resear...|unknown|      Divorced|\n",
      "|         19|    Vasquez and Sons|         Pathologist|   Male|       Married|\n",
      "+-----------+--------------------+--------------------+-------+--------------+\n",
      "only showing top 20 rows\n"
     ]
    }
   ],
   "source": [
    "# Employee table\n",
    "employee = nuga_banks_df_cleaned.select( 'Company', 'Job_Title', 'Gender', 'Marital_Status').distinct()\n",
    "employee = employee.withColumn(\"Employee_id\", monotonically_increasing_id())\n",
    "employee = employee.select(\"Employee_id\", \"Company\", \"Job_Title\", \"Gender\", \"Marital_Status\")\n",
    "employee.show()\n"
   ]
  },
  {
   "cell_type": "code",
   "execution_count": 26,
   "id": "e0cc191a",
   "metadata": {},
   "outputs": [
    {
     "name": "stdout",
     "output_type": "stream",
     "text": [
      "+--------------+-----------+-----------+-------------------+--------------------+-------------+-------------+--------+-------+---------+--------------------+--------------------+\n",
      "|Transaction_id|Customer_id|Employee_id| Credit_Card_Number|                IBAN|Currency_Code|Random_Number|Category|  Group|Is_Active|        Last_Updated|         Description|\n",
      "+--------------+-----------+-----------+-------------------+--------------------+-------------+-------------+--------+-------+---------+--------------------+--------------------+\n",
      "|    8589934609|34359760117|      16975|4191948926153525351|GB33SCRV040476482...|          MRO|       4711.0|       C|unknown|       No|2023-03-30 22:09:...|Program dinner me...|\n",
      "|   34359738375|34359808817|      58544|    180029146062238|GB17MTZS784426277...|          GIP|       5688.0|       A|unknown|  unknown|2021-02-23 05:57:...|Network quite sit...|\n",
      "|   42949672961|      79314|      66570|   4596307291033331|GB59TAVO484072449...|          ERN|       7135.0|       B|      X|       No|2020-03-12 21:30:...|Education guess t...|\n",
      "|   34359738369|51539673109|      60653|   5294843442634660|GB58EBSY417856278...|          CZK|       4989.0|       D|      X|      Yes|2023-08-26 23:10:...|             unknown|\n",
      "|   17179869203|      38870|      29656|   4409990154098702|GB71EUPG537834141...|          BMD|       3872.0|       D|      Z|      Yes|2023-07-30 18:54:...|Color future chai...|\n",
      "|            12|68719477342|       3371|   6011259703732723|GB34HWCA758164830...|          AFN|       4452.0|       C|unknown|       No|2023-07-09 08:03:...|Program sense arm...|\n",
      "|            20|17179869184|        556|    213186454811670|GB77SPMZ984195063...|          SOS|       7610.0|       C|      X|       No|2021-04-15 13:30:...|Concern remember ...|\n",
      "|   51539607557|60129634695|      80775|   4528940883612006|GB81QGNE734082085...|          CNY|          0.0|       C|      X|       No|2023-06-29 14:00:...|Purpose discover ...|\n",
      "|   51539607554|51539699174|      77173|   3505644604415991|GB59AZPE020114645...|          KZT|       1584.0|       B|      Y|      Yes|2020-01-02 14:35:...|Shoulder call tho...|\n",
      "|   34359738368|25769870402|      57005|      4559268055614|             unknown|          BBD|       5380.0|       D|      Y|       No|2024-04-16 14:15:...|Central improve q...|\n",
      "|   17179869195|17179896943|      25519|   4430190123561392|GB92ISMX785349015...|          EUR|       6555.0| unknown|      X|       No|2022-02-11 20:06:...|Opportunity impac...|\n",
      "|   51539607563|25769890348|      75662|     38505283075889|GB17YZXH351816198...|          AZN|       3069.0|       C|      Z|       No|2020-07-09 08:01:...|             unknown|\n",
      "|   42949672975|25769880044|      64596|    378762791104606|GB12TDEU411341364...|          TMT|       3662.0| unknown|      X|       No|2023-12-16 02:57:...|Dinner business t...|\n",
      "|   25769803793|51539653342|      46435|   3507299061122552|GB39RYZE502598773...|      unknown|       2953.0|       A|      X|  unknown|2021-10-16 19:00:...|Remember wish gue...|\n",
      "|   17179869196|17179896360|      25993|                  0|GB78TOQA276294447...|          AFN|       7408.0|       A|      X|  unknown|2022-10-31 12:47:...|Wide indeed crime...|\n",
      "|   42949672968|34359813444|      67075|       639099653953|GB56ECFE416331570...|          IRR|       9772.0|       D|      X|      Yes|2021-02-26 20:14:...|Shake up son want...|\n",
      "|             1|60129555443|        555|                  0|GB03KFZR339662263...|          VEF|       2122.0|       B|      Z|  unknown|2020-12-27 13:23:...|Teach edge make n...|\n",
      "|    8589934594|25769824641|       2880|4574320593631119960|GB36WJJH142360458...|          HNL|       8360.0|       D|      X|      Yes|2020-02-01 20:56:...|Sit those program...|\n",
      "|   17179869184|42949707541|      14437|   6595377546938614|GB86CXBW307407359...|      unknown|       1817.0|       A|      Z|       No|2020-12-26 02:14:...|Will outside spec...|\n",
      "|   42949672971|34359817928| 8590000355|                  0|GB24QWDI193209807...|          SEK|       9356.0|       C|      X|  unknown|2023-07-18 21:11:...|Message interview...|\n",
      "+--------------+-----------+-----------+-------------------+--------------------+-------------+-------------+--------+-------+---------+--------------------+--------------------+\n",
      "only showing top 20 rows\n"
     ]
    }
   ],
   "source": [
    "#Fact table\n",
    "# Joining the tables to create the fact table\n",
    "fact_table= nuga_banks_df_cleaned.join(transaction, [\"Transaction_Date\", \"Amount\", \"Transaction_Type\"], how='left') \\\n",
    "                                 .join(customer, [\"Customer_Name\", \"Customer_Address\", \"Customer_State\", \"Customer_City\", \"Customer_Country\", \"Email\", \"Phone_Number\"], how='left') \\\n",
    "                                 .join(employee, [\"Company\", \"Job_Title\", \"Gender\", \"Marital_Status\"], how='left')\\\n",
    "                                 .select(\"Transaction_id\", \"Customer_id\", \"Employee_id\", \"Credit_Card_Number\", \"IBAN\", \"Currency_Code\", \"Random_Number\", \"Category\", \"Group\", \"Is_Active\", \"Last_Updated\", \"Description\")\n",
    "fact_table.show()"
   ]
  },
  {
   "cell_type": "code",
   "execution_count": 27,
   "id": "7be75bb3",
   "metadata": {},
   "outputs": [],
   "source": [
    "# output the transformed data to parquet\n",
    "#transaction.write.mode('overwrite').parquet(r'dataset/transaction')\n",
    "#customer.write.mode('overwrite').parquet(r'dataset/customer')\n",
    "#employee.write.mode('overwrite').parquet(r'dataset/employee')\n",
    "#fact_table.write.mode('overwrite').parquet(r'dataset/fact_table')"
   ]
  },
  {
   "cell_type": "code",
   "execution_count": 28,
   "id": "bc97ccd2",
   "metadata": {},
   "outputs": [],
   "source": [
    "# output the transformed data as csv\n",
    "#transaction.repartition(1).write.mode('overwrite').option('header', 'true').csv(r'dataset/transformeddata/csv/transaction')\n",
    "#customer.repartition(1).write.mode('overwrite').option('header', 'true').csv(r'dataset/transformeddata/csv/customer')\n",
    "#employee.repartition(1).write.mode('overwrite').option('header', 'true').csv(r'dataset/transformeddata/csv/employee')\n",
    "#fact_table.repartition(1).write.mode('overwrite').option('header', 'true').csv(r'dataset/transformeddata/csv/fact_table')"
   ]
  },
  {
   "cell_type": "code",
   "execution_count": 29,
   "id": "a622c6b0",
   "metadata": {},
   "outputs": [],
   "source": [
    "# Convert spark df to pandas df\n",
    "transaction_pd_df = transaction.toPandas()\n",
    "customer_pd_df = customer.toPandas()\n",
    "employee_pd_df = employee.toPandas()\n",
    "fact_table_pd_df = fact_table.toPandas()"
   ]
  },
  {
   "cell_type": "code",
   "execution_count": 30,
   "id": "d2f19ef3",
   "metadata": {},
   "outputs": [
    {
     "name": "stdout",
     "output_type": "stream",
     "text": [
      "Requirement already satisfied: python-dotenv in c:\\users\\user\\anaconda3\\envs\\enel-ml\\lib\\site-packages (1.1.1)\n"
     ]
    }
   ],
   "source": [
    "!pip install python-dotenv\n"
   ]
  },
  {
   "cell_type": "code",
   "execution_count": 35,
   "id": "43217b6a",
   "metadata": {},
   "outputs": [],
   "source": [
    "from dotenv import load_dotenv\n",
    "import os\n",
    "\n",
    "# Load environment variables from the .env file\n",
    "load_dotenv()\n",
    "\n",
    "# Assign values from .env to db_params dictionary\n",
    "db_params = {\n",
    "    'username': os.getenv('DB_USERNAME'),\n",
    "    'password': os.getenv('DB_PASSWORD'),\n",
    "    'host': os.getenv('DB_HOST'),\n",
    "    'port': os.getenv('DB_PORT'),\n",
    "    'database': os.getenv('DB_NAME')\n",
    "}\n",
    "\n",
    "\n"
   ]
  },
  {
   "cell_type": "code",
   "execution_count": 34,
   "id": "239b4ef3",
   "metadata": {},
   "outputs": [
    {
     "name": "stdout",
     "output_type": "stream",
     "text": [
      "Database, tables and data loaded successfully \n"
     ]
    }
   ],
   "source": [
    "\n",
    "# define the database connection url with db parameters\n",
    "db_url = f\"postgresql://{db_params['username']}:{db_params['password']}@{db_params['host']}:{db_params['port']}/{db_params['database']}\"\n",
    "\n",
    "# Create the database engine with the  db url\n",
    "engine = create_engine(db_url)\n",
    "\n",
    "# Connect to PostgreSQL server\n",
    "with engine.connect() as connection:\n",
    "    # Create tables and load the data\n",
    "    transaction_pd_df.to_sql('transaction', connection, index=False, if_exists='replace')\n",
    "    customer_pd_df.to_sql('customer', connection, index=False, if_exists='replace')\n",
    "    employee_pd_df.to_sql('employee', connection, index=False, if_exists='replace')\n",
    "    fact_table_pd_df.to_sql('fact_table', connection, index=False, if_exists='replace')\n",
    "\n",
    "print('Database, tables and data loaded successfully ')"
   ]
  },
  {
   "cell_type": "code",
   "execution_count": null,
   "id": "e29b1d87",
   "metadata": {},
   "outputs": [],
   "source": []
  }
 ],
 "metadata": {
  "kernelspec": {
   "display_name": "enel-ml",
   "language": "python",
   "name": "python3"
  },
  "language_info": {
   "codemirror_mode": {
    "name": "ipython",
    "version": 3
   },
   "file_extension": ".py",
   "mimetype": "text/x-python",
   "name": "python",
   "nbconvert_exporter": "python",
   "pygments_lexer": "ipython3",
   "version": "3.12.8"
  }
 },
 "nbformat": 4,
 "nbformat_minor": 5
}
